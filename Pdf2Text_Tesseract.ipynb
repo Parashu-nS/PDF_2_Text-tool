{
 "cells": [
  {
   "cell_type": "code",
   "execution_count": 1,
   "id": "904bd402",
   "metadata": {},
   "outputs": [],
   "source": [
    "import pytesseract\n",
    "from pdf2image import convert_from_path\n",
    "\n",
    "def extract_text_from_pdf(pdf_path):\n",
    "    try:\n",
    "        # Convert PDF to images\n",
    "        pages = convert_from_path(pdf_path)\n",
    "\n",
    "        extracted_text = ''\n",
    "        for page in pages:\n",
    "            # Perform OCR on each page image\n",
    "            text = pytesseract.image_to_string(page)\n",
    "            extracted_text += text + '\\n'\n",
    "\n",
    "        return extracted_text\n",
    "    except Exception as e:\n",
    "        print(f\"An error occurred: {e}\")\n",
    "        return None\n",
    "\n",
    "# Example usage:\n",
    "pdf_file_path = r'C:\\Path_to_the-file\\File.pdf'\n",
    "extracted_text = extract_text_from_pdf(pdf_file_path)\n",
    "if extracted_text:\n",
    "    print(extracted_text)\n",
    "else:\n",
    "    print(\"Failed to extract text from the PDF.\")"
   ]
  },
  {
   "cell_type": "code",
   "execution_count": null,
   "id": "5589844a",
   "metadata": {},
   "outputs": [],
   "source": []
  },
  {
   "cell_type": "code",
   "execution_count": null,
   "id": "de3c434f",
   "metadata": {},
   "outputs": [],
   "source": []
  }
 ],
 "metadata": {
  "kernelspec": {
   "display_name": "Python 3 (ipykernel)",
   "language": "python",
   "name": "python3"
  },
  "language_info": {
   "codemirror_mode": {
    "name": "ipython",
    "version": 3
   },
   "file_extension": ".py",
   "mimetype": "text/x-python",
   "name": "python",
   "nbconvert_exporter": "python",
   "pygments_lexer": "ipython3",
   "version": "3.12.0"
  }
 },
 "nbformat": 4,
 "nbformat_minor": 5
}
